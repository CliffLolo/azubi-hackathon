{
 "cells": [
  {
   "cell_type": "code",
   "execution_count": 1,
   "metadata": {},
   "outputs": [],
   "source": [
    "# Import libraries\n",
    "import numpy as np\n",
    "import pandas as pd\n",
    "from matplotlib import pyplot as plt"
   ]
  },
  {
   "cell_type": "code",
   "execution_count": 2,
   "metadata": {},
   "outputs": [
    {
     "data": {
      "text/html": [
       "<div>\n",
       "<style scoped>\n",
       "    .dataframe tbody tr th:only-of-type {\n",
       "        vertical-align: middle;\n",
       "    }\n",
       "\n",
       "    .dataframe tbody tr th {\n",
       "        vertical-align: top;\n",
       "    }\n",
       "\n",
       "    .dataframe thead th {\n",
       "        text-align: right;\n",
       "    }\n",
       "</style>\n",
       "<table border=\"1\" class=\"dataframe\">\n",
       "  <thead>\n",
       "    <tr style=\"text-align: right;\">\n",
       "      <th></th>\n",
       "      <th>fid</th>\n",
       "      <th>cell_count</th>\n",
       "      <th>mean_mon_rainfall_mm</th>\n",
       "      <th>time</th>\n",
       "      <th>iso3</th>\n",
       "      <th>svycode</th>\n",
       "      <th>svyl1cd</th>\n",
       "      <th>svyl1nm</th>\n",
       "      <th>svyl2cd</th>\n",
       "      <th>svyl2nm</th>\n",
       "      <th>prttynm</th>\n",
       "      <th>rn</th>\n",
       "    </tr>\n",
       "  </thead>\n",
       "  <tbody>\n",
       "    <tr>\n",
       "      <th>0</th>\n",
       "      <td>0</td>\n",
       "      <td>6</td>\n",
       "      <td>52.755573</td>\n",
       "      <td>1981.01001</td>\n",
       "      <td>UGA</td>\n",
       "      <td>uga2013</td>\n",
       "      <td>1</td>\n",
       "      <td>Central</td>\n",
       "      <td>102</td>\n",
       "      <td>KAMPALA</td>\n",
       "      <td>KAMPALA</td>\n",
       "      <td></td>\n",
       "    </tr>\n",
       "    <tr>\n",
       "      <th>1</th>\n",
       "      <td>1</td>\n",
       "      <td>80</td>\n",
       "      <td>20.932796</td>\n",
       "      <td>1981.01001</td>\n",
       "      <td>UGA</td>\n",
       "      <td>uga2013</td>\n",
       "      <td>1</td>\n",
       "      <td>Central</td>\n",
       "      <td>123</td>\n",
       "      <td>KYANKWANZI</td>\n",
       "      <td>KIBOGA</td>\n",
       "      <td></td>\n",
       "    </tr>\n",
       "    <tr>\n",
       "      <th>2</th>\n",
       "      <td>2</td>\n",
       "      <td>17</td>\n",
       "      <td>33.781631</td>\n",
       "      <td>1981.01001</td>\n",
       "      <td>UGA</td>\n",
       "      <td>uga2013</td>\n",
       "      <td>1</td>\n",
       "      <td>Central</td>\n",
       "      <td>118</td>\n",
       "      <td>BUKOMANSIMBI</td>\n",
       "      <td>MASAKA</td>\n",
       "      <td></td>\n",
       "    </tr>\n",
       "    <tr>\n",
       "      <th>3</th>\n",
       "      <td>3</td>\n",
       "      <td>103</td>\n",
       "      <td>38.626671</td>\n",
       "      <td>1981.01001</td>\n",
       "      <td>UGA</td>\n",
       "      <td>uga2013</td>\n",
       "      <td>1</td>\n",
       "      <td>Central</td>\n",
       "      <td>124</td>\n",
       "      <td>LWENGO</td>\n",
       "      <td>MASAKA</td>\n",
       "      <td></td>\n",
       "    </tr>\n",
       "    <tr>\n",
       "      <th>4</th>\n",
       "      <td>4</td>\n",
       "      <td>27</td>\n",
       "      <td>37.377052</td>\n",
       "      <td>1981.01001</td>\n",
       "      <td>UGA</td>\n",
       "      <td>uga2013</td>\n",
       "      <td>1</td>\n",
       "      <td>Central</td>\n",
       "      <td>122</td>\n",
       "      <td>KALUNGU</td>\n",
       "      <td>MASAKA</td>\n",
       "      <td></td>\n",
       "    </tr>\n",
       "  </tbody>\n",
       "</table>\n",
       "</div>"
      ],
      "text/plain": [
       "   fid  cell_count  mean_mon_rainfall_mm        time iso3  svycode  svyl1cd  \\\n",
       "0    0           6             52.755573  1981.01001  UGA  uga2013        1   \n",
       "1    1          80             20.932796  1981.01001  UGA  uga2013        1   \n",
       "2    2          17             33.781631  1981.01001  UGA  uga2013        1   \n",
       "3    3         103             38.626671  1981.01001  UGA  uga2013        1   \n",
       "4    4          27             37.377052  1981.01001  UGA  uga2013        1   \n",
       "\n",
       "   svyl1nm  svyl2cd       svyl2nm  prttynm rn  \n",
       "0  Central      102       KAMPALA  KAMPALA     \n",
       "1  Central      123    KYANKWANZI   KIBOGA     \n",
       "2  Central      118  BUKOMANSIMBI   MASAKA     \n",
       "3  Central      124        LWENGO   MASAKA     \n",
       "4  Central      122       KALUNGU   MASAKA     "
      ]
     },
     "execution_count": 2,
     "metadata": {},
     "output_type": "execute_result"
    }
   ],
   "source": [
    "# Load data and view first 5 rows\n",
    "data = pd.read_stata('rainfall_2.dta')\n",
    "data.head()"
   ]
  },
  {
   "cell_type": "code",
   "execution_count": 3,
   "metadata": {},
   "outputs": [
    {
     "name": "stdout",
     "output_type": "stream",
     "text": [
      "<class 'pandas.core.frame.DataFrame'>\n",
      "Int64Index: 193004 entries, 0 to 193003\n",
      "Data columns (total 12 columns):\n",
      " #   Column                Non-Null Count   Dtype  \n",
      "---  ------                --------------   -----  \n",
      " 0   fid                   193004 non-null  int16  \n",
      " 1   cell_count            193004 non-null  int16  \n",
      " 2   mean_mon_rainfall_mm  193004 non-null  float32\n",
      " 3   time                  193004 non-null  float32\n",
      " 4   iso3                  193004 non-null  object \n",
      " 5   svycode               193004 non-null  object \n",
      " 6   svyl1cd               193004 non-null  int8   \n",
      " 7   svyl1nm               193004 non-null  object \n",
      " 8   svyl2cd               193004 non-null  int16  \n",
      " 9   svyl2nm               193004 non-null  object \n",
      " 10  prttynm               193004 non-null  object \n",
      " 11  rn                    193004 non-null  object \n",
      "dtypes: float32(2), int16(3), int8(1), object(6)\n",
      "memory usage: 13.1+ MB\n"
     ]
    }
   ],
   "source": [
    "# Check dataframe information\n",
    "data.info()"
   ]
  },
  {
   "cell_type": "code",
   "execution_count": 4,
   "metadata": {},
   "outputs": [
    {
     "data": {
      "text/plain": [
       "array(['UGA', 'TZA', 'GHA'], dtype=object)"
      ]
     },
     "execution_count": 4,
     "metadata": {},
     "output_type": "execute_result"
    }
   ],
   "source": [
    "# View unique country iso3 codes\n",
    "data.iso3.unique()"
   ]
  },
  {
   "cell_type": "code",
   "execution_count": 5,
   "metadata": {},
   "outputs": [
    {
     "data": {
      "text/html": [
       "<div>\n",
       "<style scoped>\n",
       "    .dataframe tbody tr th:only-of-type {\n",
       "        vertical-align: middle;\n",
       "    }\n",
       "\n",
       "    .dataframe tbody tr th {\n",
       "        vertical-align: top;\n",
       "    }\n",
       "\n",
       "    .dataframe thead th {\n",
       "        text-align: right;\n",
       "    }\n",
       "</style>\n",
       "<table border=\"1\" class=\"dataframe\">\n",
       "  <thead>\n",
       "    <tr style=\"text-align: right;\">\n",
       "      <th></th>\n",
       "      <th>fid</th>\n",
       "      <th>cell_count</th>\n",
       "      <th>mean_mon_rainfall_mm</th>\n",
       "      <th>time</th>\n",
       "      <th>iso3</th>\n",
       "      <th>svycode</th>\n",
       "      <th>svyl1cd</th>\n",
       "      <th>svyl1nm</th>\n",
       "      <th>svyl2cd</th>\n",
       "      <th>svyl2nm</th>\n",
       "      <th>prttynm</th>\n",
       "      <th>rn</th>\n",
       "    </tr>\n",
       "  </thead>\n",
       "  <tbody>\n",
       "    <tr>\n",
       "      <th>282</th>\n",
       "      <td>282</td>\n",
       "      <td>19</td>\n",
       "      <td>6.065213</td>\n",
       "      <td>1981.01001</td>\n",
       "      <td>GHA</td>\n",
       "      <td>gha2012</td>\n",
       "      <td>6</td>\n",
       "      <td>Ashanti</td>\n",
       "      <td>17</td>\n",
       "      <td>Ahafo Ano North</td>\n",
       "      <td>Ahafo Ano North</td>\n",
       "      <td>0</td>\n",
       "    </tr>\n",
       "    <tr>\n",
       "      <th>283</th>\n",
       "      <td>283</td>\n",
       "      <td>39</td>\n",
       "      <td>5.155084</td>\n",
       "      <td>1981.01001</td>\n",
       "      <td>GHA</td>\n",
       "      <td>gha2012</td>\n",
       "      <td>6</td>\n",
       "      <td>Ashanti</td>\n",
       "      <td>16</td>\n",
       "      <td>Ahafo Ano South</td>\n",
       "      <td>Ahafo Ano South</td>\n",
       "      <td>1</td>\n",
       "    </tr>\n",
       "    <tr>\n",
       "      <th>284</th>\n",
       "      <td>284</td>\n",
       "      <td>41</td>\n",
       "      <td>4.253942</td>\n",
       "      <td>1981.01001</td>\n",
       "      <td>GHA</td>\n",
       "      <td>gha2012</td>\n",
       "      <td>6</td>\n",
       "      <td>Ashanti</td>\n",
       "      <td>2</td>\n",
       "      <td>Amansie West</td>\n",
       "      <td>Amansie West</td>\n",
       "      <td>2</td>\n",
       "    </tr>\n",
       "    <tr>\n",
       "      <th>285</th>\n",
       "      <td>285</td>\n",
       "      <td>49</td>\n",
       "      <td>3.583445</td>\n",
       "      <td>1981.01001</td>\n",
       "      <td>GHA</td>\n",
       "      <td>gha2012</td>\n",
       "      <td>6</td>\n",
       "      <td>Ashanti</td>\n",
       "      <td>10</td>\n",
       "      <td>Asante Akim North</td>\n",
       "      <td>Asante Akim North</td>\n",
       "      <td>3</td>\n",
       "    </tr>\n",
       "    <tr>\n",
       "      <th>286</th>\n",
       "      <td>286</td>\n",
       "      <td>37</td>\n",
       "      <td>4.436135</td>\n",
       "      <td>1981.01001</td>\n",
       "      <td>GHA</td>\n",
       "      <td>gha2012</td>\n",
       "      <td>6</td>\n",
       "      <td>Ashanti</td>\n",
       "      <td>9</td>\n",
       "      <td>Asante Akim South</td>\n",
       "      <td>Asante Akim South</td>\n",
       "      <td>4</td>\n",
       "    </tr>\n",
       "  </tbody>\n",
       "</table>\n",
       "</div>"
      ],
      "text/plain": [
       "     fid  cell_count  mean_mon_rainfall_mm        time iso3  svycode  svyl1cd  \\\n",
       "282  282          19              6.065213  1981.01001  GHA  gha2012        6   \n",
       "283  283          39              5.155084  1981.01001  GHA  gha2012        6   \n",
       "284  284          41              4.253942  1981.01001  GHA  gha2012        6   \n",
       "285  285          49              3.583445  1981.01001  GHA  gha2012        6   \n",
       "286  286          37              4.436135  1981.01001  GHA  gha2012        6   \n",
       "\n",
       "     svyl1nm  svyl2cd            svyl2nm            prttynm rn  \n",
       "282  Ashanti       17    Ahafo Ano North    Ahafo Ano North  0  \n",
       "283  Ashanti       16    Ahafo Ano South    Ahafo Ano South  1  \n",
       "284  Ashanti        2       Amansie West       Amansie West  2  \n",
       "285  Ashanti       10  Asante Akim North  Asante Akim North  3  \n",
       "286  Ashanti        9  Asante Akim South  Asante Akim South  4  "
      ]
     },
     "execution_count": 5,
     "metadata": {},
     "output_type": "execute_result"
    }
   ],
   "source": [
    "# Load Ghana data into 'gh_rain_data'\n",
    "gh_rain_data = data[data['iso3'] == 'GHA']\n",
    "# View first 5 rows\n",
    "gh_rain_data.head()"
   ]
  },
  {
   "cell_type": "code",
   "execution_count": 6,
   "metadata": {},
   "outputs": [
    {
     "data": {
      "text/html": [
       "<div>\n",
       "<style scoped>\n",
       "    .dataframe tbody tr th:only-of-type {\n",
       "        vertical-align: middle;\n",
       "    }\n",
       "\n",
       "    .dataframe tbody tr th {\n",
       "        vertical-align: top;\n",
       "    }\n",
       "\n",
       "    .dataframe thead th {\n",
       "        text-align: right;\n",
       "    }\n",
       "</style>\n",
       "<table border=\"1\" class=\"dataframe\">\n",
       "  <thead>\n",
       "    <tr style=\"text-align: right;\">\n",
       "      <th></th>\n",
       "      <th>fid</th>\n",
       "      <th>cell_count</th>\n",
       "      <th>mean_mon_rainfall_mm</th>\n",
       "      <th>time</th>\n",
       "      <th>iso3</th>\n",
       "      <th>svycode</th>\n",
       "      <th>svyl1cd</th>\n",
       "      <th>svyl1nm</th>\n",
       "      <th>svyl2cd</th>\n",
       "      <th>svyl2nm</th>\n",
       "      <th>prttynm</th>\n",
       "      <th>rn</th>\n",
       "    </tr>\n",
       "  </thead>\n",
       "  <tbody>\n",
       "    <tr>\n",
       "      <th>192999</th>\n",
       "      <td>447</td>\n",
       "      <td>36</td>\n",
       "      <td>171.675644</td>\n",
       "      <td>2016.069946</td>\n",
       "      <td>GHA</td>\n",
       "      <td>gha2012</td>\n",
       "      <td>4</td>\n",
       "      <td>Volta</td>\n",
       "      <td>13</td>\n",
       "      <td>Jasikan</td>\n",
       "      <td>Jasikan</td>\n",
       "      <td>165</td>\n",
       "    </tr>\n",
       "    <tr>\n",
       "      <th>193000</th>\n",
       "      <td>448</td>\n",
       "      <td>13</td>\n",
       "      <td>52.204678</td>\n",
       "      <td>2016.069946</td>\n",
       "      <td>GHA</td>\n",
       "      <td>gha2012</td>\n",
       "      <td>4</td>\n",
       "      <td>Volta</td>\n",
       "      <td>4</td>\n",
       "      <td>Ketu North</td>\n",
       "      <td>Ketu North</td>\n",
       "      <td>166</td>\n",
       "    </tr>\n",
       "    <tr>\n",
       "      <th>193001</th>\n",
       "      <td>449</td>\n",
       "      <td>10</td>\n",
       "      <td>44.619186</td>\n",
       "      <td>2016.069946</td>\n",
       "      <td>GHA</td>\n",
       "      <td>gha2012</td>\n",
       "      <td>4</td>\n",
       "      <td>Volta</td>\n",
       "      <td>3</td>\n",
       "      <td>Ketu South</td>\n",
       "      <td>Ketu South</td>\n",
       "      <td>167</td>\n",
       "    </tr>\n",
       "    <tr>\n",
       "      <th>193002</th>\n",
       "      <td>450</td>\n",
       "      <td>31</td>\n",
       "      <td>238.490906</td>\n",
       "      <td>2016.069946</td>\n",
       "      <td>GHA</td>\n",
       "      <td>gha2012</td>\n",
       "      <td>4</td>\n",
       "      <td>Volta</td>\n",
       "      <td>18</td>\n",
       "      <td>Nkwanta North</td>\n",
       "      <td>Nkwanta North</td>\n",
       "      <td>168</td>\n",
       "    </tr>\n",
       "    <tr>\n",
       "      <th>193003</th>\n",
       "      <td>451</td>\n",
       "      <td>100</td>\n",
       "      <td>255.096298</td>\n",
       "      <td>2016.069946</td>\n",
       "      <td>GHA</td>\n",
       "      <td>gha2012</td>\n",
       "      <td>4</td>\n",
       "      <td>Volta</td>\n",
       "      <td>17</td>\n",
       "      <td>Nkwanta South</td>\n",
       "      <td>Nkwanta South</td>\n",
       "      <td>169</td>\n",
       "    </tr>\n",
       "  </tbody>\n",
       "</table>\n",
       "</div>"
      ],
      "text/plain": [
       "        fid  cell_count  mean_mon_rainfall_mm         time iso3  svycode  \\\n",
       "192999  447          36            171.675644  2016.069946  GHA  gha2012   \n",
       "193000  448          13             52.204678  2016.069946  GHA  gha2012   \n",
       "193001  449          10             44.619186  2016.069946  GHA  gha2012   \n",
       "193002  450          31            238.490906  2016.069946  GHA  gha2012   \n",
       "193003  451         100            255.096298  2016.069946  GHA  gha2012   \n",
       "\n",
       "        svyl1cd svyl1nm  svyl2cd        svyl2nm        prttynm   rn  \n",
       "192999        4   Volta       13        Jasikan        Jasikan  165  \n",
       "193000        4   Volta        4     Ketu North     Ketu North  166  \n",
       "193001        4   Volta        3     Ketu South     Ketu South  167  \n",
       "193002        4   Volta       18  Nkwanta North  Nkwanta North  168  \n",
       "193003        4   Volta       17  Nkwanta South  Nkwanta South  169  "
      ]
     },
     "execution_count": 6,
     "metadata": {},
     "output_type": "execute_result"
    }
   ],
   "source": [
    "# View last 5 rows\n",
    "gh_rain_data.tail()"
   ]
  },
  {
   "cell_type": "code",
   "execution_count": 7,
   "metadata": {},
   "outputs": [
    {
     "data": {
      "text/html": [
       "<div>\n",
       "<style scoped>\n",
       "    .dataframe tbody tr th:only-of-type {\n",
       "        vertical-align: middle;\n",
       "    }\n",
       "\n",
       "    .dataframe tbody tr th {\n",
       "        vertical-align: top;\n",
       "    }\n",
       "\n",
       "    .dataframe thead th {\n",
       "        text-align: right;\n",
       "    }\n",
       "</style>\n",
       "<table border=\"1\" class=\"dataframe\">\n",
       "  <thead>\n",
       "    <tr style=\"text-align: right;\">\n",
       "      <th></th>\n",
       "      <th>fid</th>\n",
       "      <th>cell_count</th>\n",
       "      <th>mean_mon_rainfall_mm</th>\n",
       "      <th>time</th>\n",
       "      <th>svyl1cd</th>\n",
       "      <th>svyl2cd</th>\n",
       "    </tr>\n",
       "  </thead>\n",
       "  <tbody>\n",
       "    <tr>\n",
       "      <th>count</th>\n",
       "      <td>72590.000000</td>\n",
       "      <td>72590.000000</td>\n",
       "      <td>72590.000000</td>\n",
       "      <td>72590.000000</td>\n",
       "      <td>72590.000000</td>\n",
       "      <td>72590.000000</td>\n",
       "    </tr>\n",
       "    <tr>\n",
       "      <th>mean</th>\n",
       "      <td>366.500000</td>\n",
       "      <td>46.241176</td>\n",
       "      <td>101.957565</td>\n",
       "      <td>1998.808594</td>\n",
       "      <td>5.323529</td>\n",
       "      <td>9.964706</td>\n",
       "    </tr>\n",
       "    <tr>\n",
       "      <th>std</th>\n",
       "      <td>49.074262</td>\n",
       "      <td>49.265356</td>\n",
       "      <td>79.951988</td>\n",
       "      <td>10.282920</td>\n",
       "      <td>2.577301</td>\n",
       "      <td>6.259055</td>\n",
       "    </tr>\n",
       "    <tr>\n",
       "      <th>min</th>\n",
       "      <td>282.000000</td>\n",
       "      <td>2.000000</td>\n",
       "      <td>0.251909</td>\n",
       "      <td>1981.010010</td>\n",
       "      <td>1.000000</td>\n",
       "      <td>1.000000</td>\n",
       "    </tr>\n",
       "    <tr>\n",
       "      <th>25%</th>\n",
       "      <td>324.000000</td>\n",
       "      <td>18.000000</td>\n",
       "      <td>31.121050</td>\n",
       "      <td>1989.109985</td>\n",
       "      <td>3.000000</td>\n",
       "      <td>5.000000</td>\n",
       "    </tr>\n",
       "    <tr>\n",
       "      <th>50%</th>\n",
       "      <td>366.500000</td>\n",
       "      <td>31.000000</td>\n",
       "      <td>91.322670</td>\n",
       "      <td>1998.099976</td>\n",
       "      <td>6.000000</td>\n",
       "      <td>9.000000</td>\n",
       "    </tr>\n",
       "    <tr>\n",
       "      <th>75%</th>\n",
       "      <td>409.000000</td>\n",
       "      <td>54.000000</td>\n",
       "      <td>155.852806</td>\n",
       "      <td>2007.089966</td>\n",
       "      <td>7.000000</td>\n",
       "      <td>15.000000</td>\n",
       "    </tr>\n",
       "    <tr>\n",
       "      <th>max</th>\n",
       "      <td>451.000000</td>\n",
       "      <td>287.000000</td>\n",
       "      <td>579.755920</td>\n",
       "      <td>2016.069946</td>\n",
       "      <td>10.000000</td>\n",
       "      <td>27.000000</td>\n",
       "    </tr>\n",
       "  </tbody>\n",
       "</table>\n",
       "</div>"
      ],
      "text/plain": [
       "                fid    cell_count  mean_mon_rainfall_mm          time  \\\n",
       "count  72590.000000  72590.000000          72590.000000  72590.000000   \n",
       "mean     366.500000     46.241176            101.957565   1998.808594   \n",
       "std       49.074262     49.265356             79.951988     10.282920   \n",
       "min      282.000000      2.000000              0.251909   1981.010010   \n",
       "25%      324.000000     18.000000             31.121050   1989.109985   \n",
       "50%      366.500000     31.000000             91.322670   1998.099976   \n",
       "75%      409.000000     54.000000            155.852806   2007.089966   \n",
       "max      451.000000    287.000000            579.755920   2016.069946   \n",
       "\n",
       "            svyl1cd       svyl2cd  \n",
       "count  72590.000000  72590.000000  \n",
       "mean       5.323529      9.964706  \n",
       "std        2.577301      6.259055  \n",
       "min        1.000000      1.000000  \n",
       "25%        3.000000      5.000000  \n",
       "50%        6.000000      9.000000  \n",
       "75%        7.000000     15.000000  \n",
       "max       10.000000     27.000000  "
      ]
     },
     "execution_count": 7,
     "metadata": {},
     "output_type": "execute_result"
    }
   ],
   "source": [
    "# View statistical evaluations of numerical columns\n",
    "gh_rain_data.describe()"
   ]
  },
  {
   "cell_type": "code",
   "execution_count": 8,
   "metadata": {},
   "outputs": [
    {
     "data": {
      "text/plain": [
       "0"
      ]
     },
     "execution_count": 8,
     "metadata": {},
     "output_type": "execute_result"
    }
   ],
   "source": [
    "# Number of duplicated rows\n",
    "gh_rain_data.duplicated().sum()"
   ]
  },
  {
   "cell_type": "code",
   "execution_count": 9,
   "metadata": {},
   "outputs": [
    {
     "data": {
      "text/plain": [
       "fid                     0\n",
       "cell_count              0\n",
       "mean_mon_rainfall_mm    0\n",
       "time                    0\n",
       "iso3                    0\n",
       "svycode                 0\n",
       "svyl1cd                 0\n",
       "svyl1nm                 0\n",
       "svyl2cd                 0\n",
       "svyl2nm                 0\n",
       "prttynm                 0\n",
       "rn                      0\n",
       "dtype: int64"
      ]
     },
     "execution_count": 9,
     "metadata": {},
     "output_type": "execute_result"
    }
   ],
   "source": [
    "# Number of null values in each column\n",
    "gh_rain_data.isna().sum()"
   ]
  },
  {
   "cell_type": "code",
   "execution_count": 10,
   "metadata": {},
   "outputs": [
    {
     "data": {
      "text/plain": [
       "array([1981.01, 1981.02, 1981.03, 1981.04, 1981.05, 1981.06, 1981.07,\n",
       "       1981.08, 1981.09, 1981.1 , 1981.11, 1981.12, 1982.01, 1982.02,\n",
       "       1982.03, 1982.04, 1982.05, 1982.06, 1982.07, 1982.08, 1982.09,\n",
       "       1982.1 , 1982.11, 1982.12, 1983.01, 1983.02, 1983.03, 1983.04,\n",
       "       1983.05, 1983.06, 1983.07, 1983.08, 1983.09, 1983.1 , 1983.11,\n",
       "       1983.12, 1984.01, 1984.02, 1984.03, 1984.04, 1984.05, 1984.06,\n",
       "       1984.07, 1984.08, 1984.09, 1984.1 , 1984.11, 1984.12, 1985.01,\n",
       "       1985.02, 1985.03, 1985.04, 1985.05, 1985.06, 1985.07, 1985.08,\n",
       "       1985.09, 1985.1 , 1985.11, 1985.12, 1986.01, 1986.02, 1986.03,\n",
       "       1986.04, 1986.05, 1986.06, 1986.07, 1986.08, 1986.09, 1986.1 ,\n",
       "       1986.11, 1986.12, 1987.01, 1987.02, 1987.03, 1987.04, 1987.05,\n",
       "       1987.06, 1987.07, 1987.08, 1987.09, 1987.1 , 1987.11, 1987.12,\n",
       "       1988.01, 1988.02, 1988.03, 1988.04, 1988.05, 1988.06, 1988.07,\n",
       "       1988.08, 1988.09, 1988.1 , 1988.11, 1988.12, 1989.01, 1989.02,\n",
       "       1989.03, 1989.04, 1989.05, 1989.06, 1989.07, 1989.08, 1989.09,\n",
       "       1989.1 , 1989.11, 1989.12, 1990.01, 1990.02, 1990.03, 1990.04,\n",
       "       1990.05, 1990.06, 1990.07, 1990.08, 1990.09, 1990.1 , 1990.11,\n",
       "       1990.12, 1991.01, 1991.02, 1991.03, 1991.04, 1991.05, 1991.06,\n",
       "       1991.07, 1991.08, 1991.09, 1991.1 , 1991.11, 1991.12, 1992.01,\n",
       "       1992.02, 1992.03, 1992.04, 1992.05, 1992.06, 1992.07, 1992.08,\n",
       "       1992.09, 1992.1 , 1992.11, 1992.12, 1993.01, 1993.02, 1993.03,\n",
       "       1993.04, 1993.05, 1993.06, 1993.07, 1993.08, 1993.09, 1993.1 ,\n",
       "       1993.11, 1993.12, 1994.01, 1994.02, 1994.03, 1994.04, 1994.05,\n",
       "       1994.06, 1994.07, 1994.08, 1994.09, 1994.1 , 1994.11, 1994.12,\n",
       "       1995.01, 1995.02, 1995.03, 1995.04, 1995.05, 1995.06, 1995.07,\n",
       "       1995.08, 1995.09, 1995.1 , 1995.11, 1995.12, 1996.01, 1996.02,\n",
       "       1996.03, 1996.04, 1996.05, 1996.06, 1996.07, 1996.08, 1996.09,\n",
       "       1996.1 , 1996.11, 1996.12, 1997.01, 1997.02, 1997.03, 1997.04,\n",
       "       1997.05, 1997.06, 1997.07, 1997.08, 1997.09, 1997.1 , 1997.11,\n",
       "       1997.12, 1998.01, 1998.02, 1998.03, 1998.04, 1998.05, 1998.06,\n",
       "       1998.07, 1998.08, 1998.09, 1998.1 , 1998.11, 1998.12, 1999.01,\n",
       "       1999.02, 1999.03, 1999.04, 1999.05, 1999.06, 1999.07, 1999.08,\n",
       "       1999.09, 1999.1 , 1999.11, 1999.12, 2000.01, 2000.02, 2000.03,\n",
       "       2000.04, 2000.05, 2000.06, 2000.07, 2000.08, 2000.09, 2000.1 ,\n",
       "       2000.11, 2000.12, 2001.01, 2001.02, 2001.03, 2001.04, 2001.05,\n",
       "       2001.06, 2001.07, 2001.08, 2001.09, 2001.1 , 2001.11, 2001.12,\n",
       "       2002.01, 2002.02, 2002.03, 2002.04, 2002.05, 2002.06, 2002.07,\n",
       "       2002.08, 2002.09, 2002.1 , 2002.11, 2002.12, 2003.01, 2003.02,\n",
       "       2003.03, 2003.04, 2003.05, 2003.06, 2003.07, 2003.08, 2003.09,\n",
       "       2003.1 , 2003.11, 2003.12, 2004.01, 2004.02, 2004.03, 2004.04,\n",
       "       2004.05, 2004.06, 2004.07, 2004.08, 2004.09, 2004.1 , 2004.11,\n",
       "       2004.12, 2005.01, 2005.02, 2005.03, 2005.04, 2005.05, 2005.06,\n",
       "       2005.07, 2005.08, 2005.09, 2005.1 , 2005.11, 2005.12, 2006.01,\n",
       "       2006.02, 2006.03, 2006.04, 2006.05, 2006.06, 2006.07, 2006.08,\n",
       "       2006.09, 2006.1 , 2006.11, 2006.12, 2007.01, 2007.02, 2007.03,\n",
       "       2007.04, 2007.05, 2007.06, 2007.07, 2007.08, 2007.09, 2007.1 ,\n",
       "       2007.11, 2007.12, 2008.01, 2008.02, 2008.03, 2008.04, 2008.05,\n",
       "       2008.06, 2008.07, 2008.08, 2008.09, 2008.1 , 2008.11, 2008.12,\n",
       "       2009.01, 2009.02, 2009.03, 2009.04, 2009.05, 2009.06, 2009.07,\n",
       "       2009.08, 2009.09, 2009.1 , 2009.11, 2009.12, 2010.01, 2010.02,\n",
       "       2010.03, 2010.04, 2010.05, 2010.06, 2010.07, 2010.08, 2010.09,\n",
       "       2010.1 , 2010.11, 2010.12, 2011.01, 2011.02, 2011.03, 2011.04,\n",
       "       2011.05, 2011.06, 2011.07, 2011.08, 2011.09, 2011.1 , 2011.11,\n",
       "       2011.12, 2012.01, 2012.02, 2012.03, 2012.04, 2012.05, 2012.06,\n",
       "       2012.07, 2012.08, 2012.09, 2012.1 , 2012.11, 2012.12, 2013.01,\n",
       "       2013.02, 2013.03, 2013.04, 2013.05, 2013.06, 2013.07, 2013.08,\n",
       "       2013.09, 2013.1 , 2013.11, 2013.12, 2014.01, 2014.02, 2014.03,\n",
       "       2014.04, 2014.05, 2014.06, 2014.07, 2014.08, 2014.09, 2014.1 ,\n",
       "       2014.11, 2014.12, 2015.01, 2015.02, 2015.03, 2015.04, 2015.05,\n",
       "       2015.06, 2015.07, 2015.08, 2015.09, 2015.1 , 2015.11, 2015.12,\n",
       "       2016.01, 2016.02, 2016.03, 2016.04, 2016.05, 2016.06, 2016.07],\n",
       "      dtype=float32)"
      ]
     },
     "execution_count": 10,
     "metadata": {},
     "output_type": "execute_result"
    }
   ],
   "source": [
    "# Unique time (year + month) values\n",
    "gh_rain_data.time.unique()"
   ]
  },
  {
   "cell_type": "code",
   "execution_count": 11,
   "metadata": {},
   "outputs": [
    {
     "data": {
      "text/plain": [
       "array(['Ashanti', 'Brong Ahafo', 'Central', 'Eastern', 'Greater Accra',\n",
       "       'Upper West', 'Volta', 'Western', 'Upper East', 'Northern'],\n",
       "      dtype=object)"
      ]
     },
     "execution_count": 11,
     "metadata": {},
     "output_type": "execute_result"
    }
   ],
   "source": [
    "# View unique regions\n",
    "gh_rain_data.svyl1nm.unique()"
   ]
  },
  {
   "cell_type": "code",
   "execution_count": 12,
   "metadata": {},
   "outputs": [
    {
     "data": {
      "text/plain": [
       "array(['gha2012'], dtype=object)"
      ]
     },
     "execution_count": 12,
     "metadata": {},
     "output_type": "execute_result"
    }
   ],
   "source": [
    "# View unique 'svycode' values\n",
    "gh_rain_data.svycode.unique()"
   ]
  },
  {
   "cell_type": "code",
   "execution_count": 13,
   "metadata": {},
   "outputs": [
    {
     "data": {
      "text/plain": [
       "array([ 1,  2,  3,  4,  5,  6,  7,  8,  9, 10], dtype=int8)"
      ]
     },
     "execution_count": 13,
     "metadata": {},
     "output_type": "execute_result"
    }
   ],
   "source": [
    "# View unique sorted 'svyl1cd' values\n",
    "np.sort(gh_rain_data.svyl1cd.unique())"
   ]
  },
  {
   "cell_type": "code",
   "execution_count": 14,
   "metadata": {},
   "outputs": [
    {
     "data": {
      "text/plain": [
       "array([ 1,  2,  3,  4,  5,  6,  7,  8,  9, 10, 11, 12, 13, 14, 15, 16, 17,\n",
       "       18, 19, 20, 21, 22, 23, 24, 25, 26, 27], dtype=int16)"
      ]
     },
     "execution_count": 14,
     "metadata": {},
     "output_type": "execute_result"
    }
   ],
   "source": [
    "# View unique sorted 'svyl2cd' values\n",
    "np.sort(gh_rain_data.svyl2cd.unique())"
   ]
  },
  {
   "cell_type": "code",
   "execution_count": 15,
   "metadata": {},
   "outputs": [
    {
     "data": {
      "text/plain": [
       "array(['A M A', 'Abura / Asebu / Kwamankese', 'Adaklu Anyigbe',\n",
       "       'Adansi North', 'Adansi South', 'Adenta', 'Afigya Kwabre',\n",
       "       'Agona East', 'Agona West', 'Ahafo Ano North', 'Ahafo Ano South',\n",
       "       'Ahanta West', 'Ajumanku / Enyan / Essiam', 'Akatsi',\n",
       "       'Akwapim North', 'Akwapim South', 'Akyemansa', 'Amansie Central',\n",
       "       'Amansie West', 'Aowin / Suaman', 'Asante Akim North',\n",
       "       'Asante Akim South', 'Ashaiman', 'Asikuma / Odoben / Brakwa',\n",
       "       'Assin North', 'Assin South', 'Asunafo North', 'Asunafo South',\n",
       "       'Asuogyaman', 'Asutifi', 'Atebubu Amantin', 'Atiwa',\n",
       "       'Atwima Kwanwoma', 'Atwima Mponua', 'Atwima Nwabiagya',\n",
       "       'Awutu Senya', 'Bawku Municipal', 'Bawku West', 'Bekwai Municipal',\n",
       "       'Berekum', 'Bia', 'Biakoye', 'Birim Central Municipal',\n",
       "       'Birim North', 'Birim South', 'Bole', 'Bolgatanga', 'Bongo',\n",
       "       'Bosome Freho', 'Bosumtwi', 'Builsa', 'Bunkpurugu Yonyo',\n",
       "       'Cape Coast', 'Central Gonja', 'Chereponi', 'Dangbe East',\n",
       "       'Dangbe West', 'Dormaa East', 'Dormaa Municipal', 'East Akim',\n",
       "       'East Gonja', 'East Mamprusi', 'Effutu', 'Ejisu Juaben',\n",
       "       'Ejura Sekye Dumasi', 'Ellembelle', 'Fanteakwa', 'Ga East',\n",
       "       'Ga West', 'Garu Tempane', 'Gomoa East', 'Gomoa West', 'Gushiegu',\n",
       "       'Ho', 'Hohoe', 'Jaman North', 'Jaman South', 'Jasikan', 'Jirapa',\n",
       "       'Jomoro', 'Juabeso', 'K M A', 'Kadjebi', 'Karaga',\n",
       "       'Kasena Nankana East', 'Kasena Nankana West', 'Keta Municipal',\n",
       "       'Ketu North', 'Ketu South', 'Kintampo', 'Kintampo South',\n",
       "       'Komenda / Edina / Eguafo / Abirem', 'Kpandai', 'Krachi East',\n",
       "       'Krachi West', 'Kwabre East', 'Kwaebibirem', 'Kwahu East',\n",
       "       'Kwahu North', 'Kwahu South', 'Kwahu West', 'Lambussie Karni',\n",
       "       'Lawra', 'Ledzokuku / Krowor', 'Lower Manya Krobo',\n",
       "       'Mampong Municipal', 'Mfantsiman', 'Mpohor-Wassa East', 'Nadowli',\n",
       "       'Nanumba North', 'Nanumba South', 'New Juaben Municipal',\n",
       "       'Nkoranza North', 'Nkoranza South', 'Nkwanta North',\n",
       "       'Nkwanta South', 'Norh Dayi (Kpando)', 'North Tongu', 'Nzema East',\n",
       "       'Obuasi Municipal', 'Offinso Municipal', 'Offinso North',\n",
       "       'Prestea / Huni Valley', 'Pru', 'Saboba', 'Savelugu Nanton',\n",
       "       'Sawla / Tuna / Kalba', 'Sefwi Akontombra',\n",
       "       'Sefwi Bibiani-Ahwiaso Bekwai', 'Sefwi Wiawso', 'Sekondi-Takoradi',\n",
       "       'Sekyere Afram Plains', 'Sekyere Central', 'Sekyere East',\n",
       "       'Sekyere South', 'Sene', 'Shama', 'Sissala East', 'Sissala West',\n",
       "       'South Dayi', 'South Tongu', 'Suhum / Kraboa Coaltar',\n",
       "       'Sunyani Municipal', 'Sunyani West', 'Tain', 'Talensi Nabdam',\n",
       "       'Tamale', 'Tano North', 'Tano South', 'Tarkwa Nsuaem', 'Techiman',\n",
       "       'Tema', 'Tolon Kumbugu', 'Twifo / Heman / Lower Denkyira',\n",
       "       'Upper Denkyira East', 'Upper Denkyira West', 'Upper Manya Krobo',\n",
       "       'Wa East', 'Wa Municipal', 'Wa West', 'Wassa Amenfi East',\n",
       "       'Wassa Amenfi West', 'Weija (Ga South)', 'Wenchi', 'West Akim',\n",
       "       'West Gonja', 'West Mamprusi', 'Yendi', 'Yilo Krobo',\n",
       "       'Zabzugu-Tatale'], dtype=object)"
      ]
     },
     "execution_count": 15,
     "metadata": {},
     "output_type": "execute_result"
    }
   ],
   "source": [
    "# View unique sorted 'svyl2nm' values\n",
    "np.sort(gh_rain_data.svyl2nm.unique())"
   ]
  },
  {
   "cell_type": "code",
   "execution_count": 16,
   "metadata": {},
   "outputs": [
    {
     "data": {
      "text/plain": [
       "array(['A M a', 'Abura / Asebu / Kwamankese', 'Adaklu Anyigbe',\n",
       "       'Adansi North', 'Adansi South', 'Adenta', 'Afigya Kwabre',\n",
       "       'Agona East', 'Agona West', 'Ahafo Ano North', 'Ahafo Ano South',\n",
       "       'Ahanta West', 'Ajumanku / Enyan / Essiam', 'Akatsi',\n",
       "       'Akwapim North', 'Akwapim South', 'Akyemansa', 'Amansie Central',\n",
       "       'Amansie West', 'Aowin / Suaman', 'Asante Akim North',\n",
       "       'Asante Akim South', 'Ashaiman', 'Asikuma / Odoben / Brakwa',\n",
       "       'Assin North', 'Assin South', 'Asunafo North', 'Asunafo South',\n",
       "       'Asuogyaman', 'Asutifi', 'Atebubu Amantin', 'Atiwa',\n",
       "       'Atwima Kwanwoma', 'Atwima Mponua', 'Atwima Nwabiagya',\n",
       "       'Awutu Senya', 'Bawku Municipal', 'Bawku West', 'Bekwai Municipal',\n",
       "       'Berekum', 'Bia', 'Biakoye', 'Birim Central Municipal',\n",
       "       'Birim North', 'Birim South', 'Bole', 'Bolgatanga', 'Bongo',\n",
       "       'Bosome Freho', 'Bosumtwi', 'Builsa', 'Bunkpurugu Yonyo',\n",
       "       'Cape Coast', 'Central Gonja', 'Chereponi', 'Dangbe East',\n",
       "       'Dangbe West', 'Dormaa East', 'Dormaa Municipal', 'East Akim',\n",
       "       'East Gonja', 'East Mamprusi', 'Effutu', 'Ejisu Juaben',\n",
       "       'Ejura Sekye Dumasi', 'Ellembelle', 'Fanteakwa', 'Ga East',\n",
       "       'Ga West', 'Garu Tempane', 'Gomoa East', 'Gomoa West', 'Gushiegu',\n",
       "       'Ho', 'Hohoe', 'Jaman North', 'Jaman South', 'Jasikan', 'Jirapa',\n",
       "       'Jomoro', 'Juabeso', 'K M a', 'Kadjebi', 'Karaga',\n",
       "       'Kasena Nankana East', 'Kasena Nankana West', 'Keta Municipal',\n",
       "       'Ketu North', 'Ketu South', 'Kintampo', 'Kintampo South',\n",
       "       'Komenda / Edina / Eguafo / Abirem', 'Kpandai', 'Krachi East',\n",
       "       'Krachi West', 'Kwabre East', 'Kwaebibirem', 'Kwahu East',\n",
       "       'Kwahu North', 'Kwahu South', 'Kwahu West', 'Lambussie Karni',\n",
       "       'Lawra', 'Ledzokuku / Krowor', 'Lower Manya Krobo',\n",
       "       'Mampong Municipal', 'Mfantsiman', 'Mpohor-Wassa East', 'Nadowli',\n",
       "       'Nanumba North', 'Nanumba South', 'New Juaben Municipal',\n",
       "       'Nkoranza North', 'Nkoranza South', 'Nkwanta North',\n",
       "       'Nkwanta South', 'Norh Dayi (Kpando)', 'North Tongu', 'Nzema East',\n",
       "       'Obuasi Municipal', 'Offinso Municipal', 'Offinso North',\n",
       "       'Prestea / Huni Valley', 'Pru', 'Saboba', 'Savelugu Nanton',\n",
       "       'Sawla / Tuna / Kalba', 'Sefwi Akontombra',\n",
       "       'Sefwi Bibiani-Ahwiaso Bekwai', 'Sefwi Wiawso', 'Sekondi-Takoradi',\n",
       "       'Sekyere Afram Plains', 'Sekyere Central', 'Sekyere East',\n",
       "       'Sekyere South', 'Sene', 'Shama', 'Sissala East', 'Sissala West',\n",
       "       'South Dayi', 'South Tongu', 'Suhum / Kraboa Coaltar',\n",
       "       'Sunyani Municipal', 'Sunyani West', 'Tain', 'Talensi Nabdam',\n",
       "       'Tamale', 'Tano North', 'Tano South', 'Tarkwa Nsuaem', 'Techiman',\n",
       "       'Tema', 'Tolon Kumbugu', 'Twifo / Heman / Lower Denkyira',\n",
       "       'Upper Denkyira East', 'Upper Denkyira West', 'Upper Manya Krobo',\n",
       "       'Wa East', 'Wa Municipal', 'Wa West', 'Wassa Amenfi East',\n",
       "       'Wassa Amenfi West', 'Weija (Ga South)', 'Wenchi', 'West Akim',\n",
       "       'West Gonja', 'West Mamprusi', 'Yendi', 'Yilo Krobo',\n",
       "       'Zabzugu-Tatale'], dtype=object)"
      ]
     },
     "execution_count": 16,
     "metadata": {},
     "output_type": "execute_result"
    }
   ],
   "source": [
    "# View unique sorted 'prttynm' values\n",
    "np.sort(gh_rain_data.prttynm.unique())"
   ]
  },
  {
   "cell_type": "code",
   "execution_count": 17,
   "metadata": {},
   "outputs": [
    {
     "data": {
      "text/plain": [
       "array(['0', '1', '2', '3', '4', '5', '6', '7', '8', '9', '10', '11', '12',\n",
       "       '13', '14', '15', '16', '17', '18', '19', '20', '21', '22', '23',\n",
       "       '24', '25', '26', '27', '28', '29', '30', '31', '32', '33', '34',\n",
       "       '35', '36', '37', '38', '39', '40', '41', '42', '43', '44', '45',\n",
       "       '46', '47', '48', '49', '50', '51', '52', '53', '54', '55', '56',\n",
       "       '57', '58', '59', '60', '61', '62', '63', '64', '65', '66', '67',\n",
       "       '68', '69', '70', '71', '72', '73', '74', '75', '76', '77', '78',\n",
       "       '79', '80', '81', '82', '83', '84', '85', '86', '87', '88', '89',\n",
       "       '90', '91', '92', '93', '94', '95', '96', '97', '98', '99', '100',\n",
       "       '101', '102', '103', '104', '105', '106', '107', '108', '109',\n",
       "       '110', '111', '112', '113', '114', '115', '116', '117', '118',\n",
       "       '119', '120', '121', '122', '123', '124', '125', '126', '127',\n",
       "       '128', '129', '130', '131', '132', '133', '134', '135', '136',\n",
       "       '137', '138', '139', '140', '141', '142', '143', '144', '145',\n",
       "       '146', '147', '148', '149', '150', '151', '152', '153', '154',\n",
       "       '155', '156', '157', '158', '159', '160', '161', '162', '163',\n",
       "       '164', '165', '166', '167', '168', '169'], dtype=object)"
      ]
     },
     "execution_count": 17,
     "metadata": {},
     "output_type": "execute_result"
    }
   ],
   "source": [
    "# View unique 'rn' values\n",
    "gh_rain_data.rn.unique()"
   ]
  },
  {
   "cell_type": "code",
   "execution_count": 18,
   "metadata": {},
   "outputs": [
    {
     "data": {
      "text/plain": [
       "fid                     854\n",
       "cell_count              854\n",
       "mean_mon_rainfall_mm    854\n",
       "time                    854\n",
       "iso3                    854\n",
       "svycode                 854\n",
       "svyl1cd                 854\n",
       "svyl1nm                 854\n",
       "svyl2cd                 854\n",
       "svyl2nm                 854\n",
       "prttynm                 854\n",
       "rn                      854\n",
       "dtype: int64"
      ]
     },
     "execution_count": 18,
     "metadata": {},
     "output_type": "execute_result"
    }
   ],
   "source": [
    "# Number of fields per column where svyl2nm and prttynm aren't the same/equal\n",
    "gh_rain_data[gh_rain_data['svyl2nm'] != gh_rain_data['prttynm']].count()"
   ]
  },
  {
   "cell_type": "code",
   "execution_count": 19,
   "metadata": {},
   "outputs": [
    {
     "data": {
      "text/plain": [
       "K M A    427\n",
       "A M A    427\n",
       "Name: svyl2nm, dtype: int64"
      ]
     },
     "execution_count": 19,
     "metadata": {},
     "output_type": "execute_result"
    }
   ],
   "source": [
    "# svyl2nm values where svyl2nm and prttynm aren't equal\n",
    "gh_rain_data[gh_rain_data['svyl2nm'] != gh_rain_data['prttynm']].svyl2nm.value_counts()"
   ]
  },
  {
   "cell_type": "code",
   "execution_count": 20,
   "metadata": {},
   "outputs": [
    {
     "data": {
      "text/plain": [
       "K M a    427\n",
       "A M a    427\n",
       "Name: prttynm, dtype: int64"
      ]
     },
     "execution_count": 20,
     "metadata": {},
     "output_type": "execute_result"
    }
   ],
   "source": [
    "# prttynm values where svyl2nm and prttynm aren't equal\n",
    "gh_rain_data[gh_rain_data['svyl2nm'] != gh_rain_data['prttynm']].prttynm.value_counts()"
   ]
  },
  {
   "cell_type": "code",
   "execution_count": 21,
   "metadata": {},
   "outputs": [
    {
     "data": {
      "text/html": [
       "<div>\n",
       "<style scoped>\n",
       "    .dataframe tbody tr th:only-of-type {\n",
       "        vertical-align: middle;\n",
       "    }\n",
       "\n",
       "    .dataframe tbody tr th {\n",
       "        vertical-align: top;\n",
       "    }\n",
       "\n",
       "    .dataframe thead th {\n",
       "        text-align: right;\n",
       "    }\n",
       "</style>\n",
       "<table border=\"1\" class=\"dataframe\">\n",
       "  <thead>\n",
       "    <tr style=\"text-align: right;\">\n",
       "      <th></th>\n",
       "      <th>cell_count</th>\n",
       "      <th>mean_mon_rainfall_mm</th>\n",
       "      <th>time</th>\n",
       "      <th>svyl1nm</th>\n",
       "      <th>svyl2nm</th>\n",
       "      <th>rn</th>\n",
       "      <th>svyl1cd</th>\n",
       "      <th>svyl2cd</th>\n",
       "    </tr>\n",
       "  </thead>\n",
       "  <tbody>\n",
       "    <tr>\n",
       "      <th>282</th>\n",
       "      <td>19</td>\n",
       "      <td>6.065213</td>\n",
       "      <td>1981.01001</td>\n",
       "      <td>Ashanti</td>\n",
       "      <td>Ahafo Ano North</td>\n",
       "      <td>0</td>\n",
       "      <td>6</td>\n",
       "      <td>17</td>\n",
       "    </tr>\n",
       "    <tr>\n",
       "      <th>283</th>\n",
       "      <td>39</td>\n",
       "      <td>5.155084</td>\n",
       "      <td>1981.01001</td>\n",
       "      <td>Ashanti</td>\n",
       "      <td>Ahafo Ano South</td>\n",
       "      <td>1</td>\n",
       "      <td>6</td>\n",
       "      <td>16</td>\n",
       "    </tr>\n",
       "    <tr>\n",
       "      <th>284</th>\n",
       "      <td>41</td>\n",
       "      <td>4.253942</td>\n",
       "      <td>1981.01001</td>\n",
       "      <td>Ashanti</td>\n",
       "      <td>Amansie West</td>\n",
       "      <td>2</td>\n",
       "      <td>6</td>\n",
       "      <td>2</td>\n",
       "    </tr>\n",
       "    <tr>\n",
       "      <th>285</th>\n",
       "      <td>49</td>\n",
       "      <td>3.583445</td>\n",
       "      <td>1981.01001</td>\n",
       "      <td>Ashanti</td>\n",
       "      <td>Asante Akim North</td>\n",
       "      <td>3</td>\n",
       "      <td>6</td>\n",
       "      <td>10</td>\n",
       "    </tr>\n",
       "    <tr>\n",
       "      <th>286</th>\n",
       "      <td>37</td>\n",
       "      <td>4.436135</td>\n",
       "      <td>1981.01001</td>\n",
       "      <td>Ashanti</td>\n",
       "      <td>Asante Akim South</td>\n",
       "      <td>4</td>\n",
       "      <td>6</td>\n",
       "      <td>9</td>\n",
       "    </tr>\n",
       "  </tbody>\n",
       "</table>\n",
       "</div>"
      ],
      "text/plain": [
       "     cell_count  mean_mon_rainfall_mm        time  svyl1nm            svyl2nm  \\\n",
       "282          19              6.065213  1981.01001  Ashanti    Ahafo Ano North   \n",
       "283          39              5.155084  1981.01001  Ashanti    Ahafo Ano South   \n",
       "284          41              4.253942  1981.01001  Ashanti       Amansie West   \n",
       "285          49              3.583445  1981.01001  Ashanti  Asante Akim North   \n",
       "286          37              4.436135  1981.01001  Ashanti  Asante Akim South   \n",
       "\n",
       "    rn  svyl1cd  svyl2cd  \n",
       "282  0        6       17  \n",
       "283  1        6       16  \n",
       "284  2        6        2  \n",
       "285  3        6       10  \n",
       "286  4        6        9  "
      ]
     },
     "execution_count": 21,
     "metadata": {},
     "output_type": "execute_result"
    }
   ],
   "source": [
    "# Create new dataframe with selected columns\n",
    "df = gh_rain_data[['cell_count', 'mean_mon_rainfall_mm', 'time', 'svyl1nm', 'svyl2nm', 'rn', 'svyl1cd', 'svyl2cd']]\n",
    "df.head()"
   ]
  },
  {
   "cell_type": "code",
   "execution_count": 22,
   "metadata": {},
   "outputs": [
    {
     "name": "stderr",
     "output_type": "stream",
     "text": [
      "/Users/doski/opt/anaconda3/lib/python3.7/site-packages/ipykernel_launcher.py:9: SettingWithCopyWarning: \n",
      "A value is trying to be set on a copy of a slice from a DataFrame.\n",
      "Try using .loc[row_indexer,col_indexer] = value instead\n",
      "\n",
      "See the caveats in the documentation: https://pandas.pydata.org/pandas-docs/stable/user_guide/indexing.html#returning-a-view-versus-a-copy\n",
      "  if __name__ == '__main__':\n",
      "/Users/doski/opt/anaconda3/lib/python3.7/site-packages/ipykernel_launcher.py:10: SettingWithCopyWarning: \n",
      "A value is trying to be set on a copy of a slice from a DataFrame.\n",
      "Try using .loc[row_indexer,col_indexer] = value instead\n",
      "\n",
      "See the caveats in the documentation: https://pandas.pydata.org/pandas-docs/stable/user_guide/indexing.html#returning-a-view-versus-a-copy\n",
      "  # Remove the CWD from sys.path while we load stuff.\n"
     ]
    }
   ],
   "source": [
    "# Create new year and month columns from the time column\n",
    "year = []\n",
    "month = []\n",
    "for i in df['time']:\n",
    "    y = int(i // 1)\n",
    "    m = round((i % y) * 100)\n",
    "    year.append(y)\n",
    "    month.append(m)\n",
    "df['year'] = year\n",
    "df['month'] = month"
   ]
  },
  {
   "cell_type": "code",
   "execution_count": 23,
   "metadata": {},
   "outputs": [
    {
     "data": {
      "text/html": [
       "<div>\n",
       "<style scoped>\n",
       "    .dataframe tbody tr th:only-of-type {\n",
       "        vertical-align: middle;\n",
       "    }\n",
       "\n",
       "    .dataframe tbody tr th {\n",
       "        vertical-align: top;\n",
       "    }\n",
       "\n",
       "    .dataframe thead th {\n",
       "        text-align: right;\n",
       "    }\n",
       "</style>\n",
       "<table border=\"1\" class=\"dataframe\">\n",
       "  <thead>\n",
       "    <tr style=\"text-align: right;\">\n",
       "      <th></th>\n",
       "      <th>cell_count</th>\n",
       "      <th>mean_mon_rainfall_mm</th>\n",
       "      <th>time</th>\n",
       "      <th>svyl1nm</th>\n",
       "      <th>svyl2nm</th>\n",
       "      <th>rn</th>\n",
       "      <th>svyl1cd</th>\n",
       "      <th>svyl2cd</th>\n",
       "      <th>year</th>\n",
       "      <th>month</th>\n",
       "    </tr>\n",
       "  </thead>\n",
       "  <tbody>\n",
       "    <tr>\n",
       "      <th>282</th>\n",
       "      <td>19</td>\n",
       "      <td>6.065213</td>\n",
       "      <td>1981.01001</td>\n",
       "      <td>Ashanti</td>\n",
       "      <td>Ahafo Ano North</td>\n",
       "      <td>0</td>\n",
       "      <td>6</td>\n",
       "      <td>17</td>\n",
       "      <td>1981</td>\n",
       "      <td>1</td>\n",
       "    </tr>\n",
       "    <tr>\n",
       "      <th>283</th>\n",
       "      <td>39</td>\n",
       "      <td>5.155084</td>\n",
       "      <td>1981.01001</td>\n",
       "      <td>Ashanti</td>\n",
       "      <td>Ahafo Ano South</td>\n",
       "      <td>1</td>\n",
       "      <td>6</td>\n",
       "      <td>16</td>\n",
       "      <td>1981</td>\n",
       "      <td>1</td>\n",
       "    </tr>\n",
       "    <tr>\n",
       "      <th>284</th>\n",
       "      <td>41</td>\n",
       "      <td>4.253942</td>\n",
       "      <td>1981.01001</td>\n",
       "      <td>Ashanti</td>\n",
       "      <td>Amansie West</td>\n",
       "      <td>2</td>\n",
       "      <td>6</td>\n",
       "      <td>2</td>\n",
       "      <td>1981</td>\n",
       "      <td>1</td>\n",
       "    </tr>\n",
       "    <tr>\n",
       "      <th>285</th>\n",
       "      <td>49</td>\n",
       "      <td>3.583445</td>\n",
       "      <td>1981.01001</td>\n",
       "      <td>Ashanti</td>\n",
       "      <td>Asante Akim North</td>\n",
       "      <td>3</td>\n",
       "      <td>6</td>\n",
       "      <td>10</td>\n",
       "      <td>1981</td>\n",
       "      <td>1</td>\n",
       "    </tr>\n",
       "    <tr>\n",
       "      <th>286</th>\n",
       "      <td>37</td>\n",
       "      <td>4.436135</td>\n",
       "      <td>1981.01001</td>\n",
       "      <td>Ashanti</td>\n",
       "      <td>Asante Akim South</td>\n",
       "      <td>4</td>\n",
       "      <td>6</td>\n",
       "      <td>9</td>\n",
       "      <td>1981</td>\n",
       "      <td>1</td>\n",
       "    </tr>\n",
       "  </tbody>\n",
       "</table>\n",
       "</div>"
      ],
      "text/plain": [
       "     cell_count  mean_mon_rainfall_mm        time  svyl1nm            svyl2nm  \\\n",
       "282          19              6.065213  1981.01001  Ashanti    Ahafo Ano North   \n",
       "283          39              5.155084  1981.01001  Ashanti    Ahafo Ano South   \n",
       "284          41              4.253942  1981.01001  Ashanti       Amansie West   \n",
       "285          49              3.583445  1981.01001  Ashanti  Asante Akim North   \n",
       "286          37              4.436135  1981.01001  Ashanti  Asante Akim South   \n",
       "\n",
       "    rn  svyl1cd  svyl2cd  year  month  \n",
       "282  0        6       17  1981      1  \n",
       "283  1        6       16  1981      1  \n",
       "284  2        6        2  1981      1  \n",
       "285  3        6       10  1981      1  \n",
       "286  4        6        9  1981      1  "
      ]
     },
     "execution_count": 23,
     "metadata": {},
     "output_type": "execute_result"
    }
   ],
   "source": [
    "# View first five columns of the new dataframe\n",
    "df.head()"
   ]
  },
  {
   "cell_type": "code",
   "execution_count": 24,
   "metadata": {},
   "outputs": [
    {
     "data": {
      "text/html": [
       "<div>\n",
       "<style scoped>\n",
       "    .dataframe tbody tr th:only-of-type {\n",
       "        vertical-align: middle;\n",
       "    }\n",
       "\n",
       "    .dataframe tbody tr th {\n",
       "        vertical-align: top;\n",
       "    }\n",
       "\n",
       "    .dataframe thead th {\n",
       "        text-align: right;\n",
       "    }\n",
       "</style>\n",
       "<table border=\"1\" class=\"dataframe\">\n",
       "  <thead>\n",
       "    <tr style=\"text-align: right;\">\n",
       "      <th></th>\n",
       "      <th>cell_count</th>\n",
       "      <th>mean_mon_rainfall_mm</th>\n",
       "      <th>time</th>\n",
       "      <th>svyl1nm</th>\n",
       "      <th>svyl2nm</th>\n",
       "      <th>rn</th>\n",
       "      <th>svyl1cd</th>\n",
       "      <th>svyl2cd</th>\n",
       "      <th>year</th>\n",
       "      <th>month</th>\n",
       "    </tr>\n",
       "  </thead>\n",
       "  <tbody>\n",
       "    <tr>\n",
       "      <th>192999</th>\n",
       "      <td>36</td>\n",
       "      <td>171.675644</td>\n",
       "      <td>2016.069946</td>\n",
       "      <td>Volta</td>\n",
       "      <td>Jasikan</td>\n",
       "      <td>165</td>\n",
       "      <td>4</td>\n",
       "      <td>13</td>\n",
       "      <td>2016</td>\n",
       "      <td>7</td>\n",
       "    </tr>\n",
       "    <tr>\n",
       "      <th>193000</th>\n",
       "      <td>13</td>\n",
       "      <td>52.204678</td>\n",
       "      <td>2016.069946</td>\n",
       "      <td>Volta</td>\n",
       "      <td>Ketu North</td>\n",
       "      <td>166</td>\n",
       "      <td>4</td>\n",
       "      <td>4</td>\n",
       "      <td>2016</td>\n",
       "      <td>7</td>\n",
       "    </tr>\n",
       "    <tr>\n",
       "      <th>193001</th>\n",
       "      <td>10</td>\n",
       "      <td>44.619186</td>\n",
       "      <td>2016.069946</td>\n",
       "      <td>Volta</td>\n",
       "      <td>Ketu South</td>\n",
       "      <td>167</td>\n",
       "      <td>4</td>\n",
       "      <td>3</td>\n",
       "      <td>2016</td>\n",
       "      <td>7</td>\n",
       "    </tr>\n",
       "    <tr>\n",
       "      <th>193002</th>\n",
       "      <td>31</td>\n",
       "      <td>238.490906</td>\n",
       "      <td>2016.069946</td>\n",
       "      <td>Volta</td>\n",
       "      <td>Nkwanta North</td>\n",
       "      <td>168</td>\n",
       "      <td>4</td>\n",
       "      <td>18</td>\n",
       "      <td>2016</td>\n",
       "      <td>7</td>\n",
       "    </tr>\n",
       "    <tr>\n",
       "      <th>193003</th>\n",
       "      <td>100</td>\n",
       "      <td>255.096298</td>\n",
       "      <td>2016.069946</td>\n",
       "      <td>Volta</td>\n",
       "      <td>Nkwanta South</td>\n",
       "      <td>169</td>\n",
       "      <td>4</td>\n",
       "      <td>17</td>\n",
       "      <td>2016</td>\n",
       "      <td>7</td>\n",
       "    </tr>\n",
       "  </tbody>\n",
       "</table>\n",
       "</div>"
      ],
      "text/plain": [
       "        cell_count  mean_mon_rainfall_mm         time svyl1nm        svyl2nm  \\\n",
       "192999          36            171.675644  2016.069946   Volta        Jasikan   \n",
       "193000          13             52.204678  2016.069946   Volta     Ketu North   \n",
       "193001          10             44.619186  2016.069946   Volta     Ketu South   \n",
       "193002          31            238.490906  2016.069946   Volta  Nkwanta North   \n",
       "193003         100            255.096298  2016.069946   Volta  Nkwanta South   \n",
       "\n",
       "         rn  svyl1cd  svyl2cd  year  month  \n",
       "192999  165        4       13  2016      7  \n",
       "193000  166        4        4  2016      7  \n",
       "193001  167        4        3  2016      7  \n",
       "193002  168        4       18  2016      7  \n",
       "193003  169        4       17  2016      7  "
      ]
     },
     "execution_count": 24,
     "metadata": {},
     "output_type": "execute_result"
    }
   ],
   "source": [
    "# View the last five columns of the new dataframe\n",
    "df.tail()"
   ]
  },
  {
   "cell_type": "code",
   "execution_count": 25,
   "metadata": {},
   "outputs": [
    {
     "data": {
      "text/plain": [
       "array([1981, 1982, 1983, 1984, 1985, 1986, 1987, 1988, 1989, 1990, 1991,\n",
       "       1992, 1993, 1994, 1995, 1996, 1997, 1998, 1999, 2000, 2001, 2002,\n",
       "       2003, 2004, 2005, 2006, 2007, 2008, 2009, 2010, 2011, 2012, 2013,\n",
       "       2014, 2015, 2016])"
      ]
     },
     "execution_count": 25,
     "metadata": {},
     "output_type": "execute_result"
    }
   ],
   "source": [
    "# View the unique years in the dataframe \n",
    "df.year.unique()"
   ]
  },
  {
   "cell_type": "code",
   "execution_count": 26,
   "metadata": {},
   "outputs": [
    {
     "data": {
      "text/plain": [
       "array([ 1,  2,  3,  4,  5,  6,  7,  8,  9, 10, 11, 12])"
      ]
     },
     "execution_count": 26,
     "metadata": {},
     "output_type": "execute_result"
    }
   ],
   "source": [
    "# View the unique months in the dataframe \n",
    "df.month.unique()"
   ]
  },
  {
   "cell_type": "code",
   "execution_count": 27,
   "metadata": {},
   "outputs": [
    {
     "data": {
      "text/plain": [
       "1983    2040\n",
       "1982    2040\n",
       "1999    2040\n",
       "1998    2040\n",
       "1997    2040\n",
       "1996    2040\n",
       "1995    2040\n",
       "1994    2040\n",
       "1993    2040\n",
       "1992    2040\n",
       "1991    2040\n",
       "1990    2040\n",
       "1989    2040\n",
       "1988    2040\n",
       "1987    2040\n",
       "1986    2040\n",
       "1985    2040\n",
       "2000    2040\n",
       "2001    2040\n",
       "2002    2040\n",
       "2003    2040\n",
       "1981    2040\n",
       "2015    2040\n",
       "2014    2040\n",
       "2013    2040\n",
       "2012    2040\n",
       "2011    2040\n",
       "2010    2040\n",
       "2009    2040\n",
       "2008    2040\n",
       "2007    2040\n",
       "2006    2040\n",
       "2005    2040\n",
       "2004    2040\n",
       "1984    2040\n",
       "2016    1190\n",
       "Name: year, dtype: int64"
      ]
     },
     "execution_count": 27,
     "metadata": {},
     "output_type": "execute_result"
    }
   ],
   "source": [
    "# View the number of times each year appears in the dataframe\n",
    "df.year.value_counts()"
   ]
  },
  {
   "cell_type": "code",
   "execution_count": 28,
   "metadata": {},
   "outputs": [
    {
     "data": {
      "text/plain": [
       "7     6120\n",
       "6     6120\n",
       "5     6120\n",
       "4     6120\n",
       "3     6120\n",
       "2     6120\n",
       "1     6120\n",
       "12    5950\n",
       "11    5950\n",
       "10    5950\n",
       "9     5950\n",
       "8     5950\n",
       "Name: month, dtype: int64"
      ]
     },
     "execution_count": 28,
     "metadata": {},
     "output_type": "execute_result"
    }
   ],
   "source": [
    "# View the number of times each month appears in the dataframe\n",
    "df.month.value_counts()"
   ]
  },
  {
   "cell_type": "code",
   "execution_count": 29,
   "metadata": {},
   "outputs": [
    {
     "data": {
      "text/plain": [
       "Ashanti          11529\n",
       "Brong Ahafo       9394\n",
       "Eastern           8967\n",
       "Northern          8540\n",
       "Volta             7686\n",
       "Central           7259\n",
       "Western           7259\n",
       "Greater Accra     4270\n",
       "Upper East        3843\n",
       "Upper West        3843\n",
       "Name: svyl1nm, dtype: int64"
      ]
     },
     "execution_count": 29,
     "metadata": {},
     "output_type": "execute_result"
    }
   ],
   "source": [
    "# View the number of times each region appears in the dataframe\n",
    "df.svyl1nm.value_counts()"
   ]
  },
  {
   "cell_type": "code",
   "execution_count": 30,
   "metadata": {},
   "outputs": [
    {
     "data": {
      "text/html": [
       "<div>\n",
       "<style scoped>\n",
       "    .dataframe tbody tr th:only-of-type {\n",
       "        vertical-align: middle;\n",
       "    }\n",
       "\n",
       "    .dataframe tbody tr th {\n",
       "        vertical-align: top;\n",
       "    }\n",
       "\n",
       "    .dataframe thead th {\n",
       "        text-align: right;\n",
       "    }\n",
       "</style>\n",
       "<table border=\"1\" class=\"dataframe\">\n",
       "  <thead>\n",
       "    <tr style=\"text-align: right;\">\n",
       "      <th></th>\n",
       "      <th>svyl1nm</th>\n",
       "      <th>svyl2nm</th>\n",
       "      <th>year</th>\n",
       "      <th>month</th>\n",
       "      <th>mean_mon_rainfall_mm</th>\n",
       "      <th>rn</th>\n",
       "      <th>svyl1cd</th>\n",
       "      <th>svyl2cd</th>\n",
       "      <th>cell_count</th>\n",
       "    </tr>\n",
       "  </thead>\n",
       "  <tbody>\n",
       "    <tr>\n",
       "      <th>282</th>\n",
       "      <td>Ashanti</td>\n",
       "      <td>Ahafo Ano North</td>\n",
       "      <td>1981</td>\n",
       "      <td>1</td>\n",
       "      <td>6.065213</td>\n",
       "      <td>0</td>\n",
       "      <td>6</td>\n",
       "      <td>17</td>\n",
       "      <td>19</td>\n",
       "    </tr>\n",
       "    <tr>\n",
       "      <th>283</th>\n",
       "      <td>Ashanti</td>\n",
       "      <td>Ahafo Ano South</td>\n",
       "      <td>1981</td>\n",
       "      <td>1</td>\n",
       "      <td>5.155084</td>\n",
       "      <td>1</td>\n",
       "      <td>6</td>\n",
       "      <td>16</td>\n",
       "      <td>39</td>\n",
       "    </tr>\n",
       "    <tr>\n",
       "      <th>284</th>\n",
       "      <td>Ashanti</td>\n",
       "      <td>Amansie West</td>\n",
       "      <td>1981</td>\n",
       "      <td>1</td>\n",
       "      <td>4.253942</td>\n",
       "      <td>2</td>\n",
       "      <td>6</td>\n",
       "      <td>2</td>\n",
       "      <td>41</td>\n",
       "    </tr>\n",
       "    <tr>\n",
       "      <th>285</th>\n",
       "      <td>Ashanti</td>\n",
       "      <td>Asante Akim North</td>\n",
       "      <td>1981</td>\n",
       "      <td>1</td>\n",
       "      <td>3.583445</td>\n",
       "      <td>3</td>\n",
       "      <td>6</td>\n",
       "      <td>10</td>\n",
       "      <td>49</td>\n",
       "    </tr>\n",
       "    <tr>\n",
       "      <th>286</th>\n",
       "      <td>Ashanti</td>\n",
       "      <td>Asante Akim South</td>\n",
       "      <td>1981</td>\n",
       "      <td>1</td>\n",
       "      <td>4.436135</td>\n",
       "      <td>4</td>\n",
       "      <td>6</td>\n",
       "      <td>9</td>\n",
       "      <td>37</td>\n",
       "    </tr>\n",
       "  </tbody>\n",
       "</table>\n",
       "</div>"
      ],
      "text/plain": [
       "     svyl1nm            svyl2nm  year  month  mean_mon_rainfall_mm rn  \\\n",
       "282  Ashanti    Ahafo Ano North  1981      1              6.065213  0   \n",
       "283  Ashanti    Ahafo Ano South  1981      1              5.155084  1   \n",
       "284  Ashanti       Amansie West  1981      1              4.253942  2   \n",
       "285  Ashanti  Asante Akim North  1981      1              3.583445  3   \n",
       "286  Ashanti  Asante Akim South  1981      1              4.436135  4   \n",
       "\n",
       "     svyl1cd  svyl2cd  cell_count  \n",
       "282        6       17          19  \n",
       "283        6       16          39  \n",
       "284        6        2          41  \n",
       "285        6       10          49  \n",
       "286        6        9          37  "
      ]
     },
     "execution_count": 30,
     "metadata": {},
     "output_type": "execute_result"
    }
   ],
   "source": [
    "# Create new dataframe with selected columns\n",
    "df = df[['svyl1nm', 'svyl2nm', 'year', 'month', 'mean_mon_rainfall_mm', 'rn', 'svyl1cd', 'svyl2cd', 'cell_count']]\n",
    "df.head()"
   ]
  },
  {
   "cell_type": "code",
   "execution_count": 31,
   "metadata": {},
   "outputs": [
    {
     "data": {
      "text/plain": [
       "<matplotlib.axes._subplots.AxesSubplot at 0x7fb9a4092890>"
      ]
     },
     "execution_count": 31,
     "metadata": {},
     "output_type": "execute_result"
    },
    {
     "data": {
      "image/png": "[encoded data removed]",
      "text/plain": [
       "<Figure size 432x288 with 1 Axes>"
      ]
     },
     "metadata": {
      "needs_background": "light"
     },
     "output_type": "display_data"
    }
   ],
   "source": [
    "df.plot('year', 'mean_mon_rainfall_mm', kind='line')"
   ]
  },
  {
   "cell_type": "code",
   "execution_count": null,
   "metadata": {},
   "outputs": [],
   "source": []
  }
 ],
 "metadata": {
  "kernelspec": {
   "display_name": "Python 3",
   "language": "python",
   "name": "python3"
  },
  "language_info": {
   "codemirror_mode": {
    "name": "ipython",
    "version": 3
   },
   "file_extension": ".py",
   "mimetype": "text/x-python",
   "name": "python",
   "nbconvert_exporter": "python",
   "pygments_lexer": "ipython3",
   "version": "3.7.6"
  }
 },
 "nbformat": 4,
 "nbformat_minor": 4
}
